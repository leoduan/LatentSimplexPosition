{
 "cells": [
  {
   "cell_type": "code",
   "execution_count": 1,
   "metadata": {},
   "outputs": [],
   "source": [
    "import numpy as np\n",
    "import matplotlib.pyplot as plt\n",
    "%matplotlib inline\n",
    "\n",
    "from pylab import rcParams\n",
    "rcParams['figure.figsize'] = 5, 4\n",
    "rcParams['figure.dpi'] = 200\n",
    "\n",
    "import torch\n",
    "\n",
    "from sklearn import cluster, datasets, mixture\n",
    "from sklearn.preprocessing import StandardScaler"
   ]
  },
  {
   "cell_type": "code",
   "execution_count": 2,
   "metadata": {},
   "outputs": [],
   "source": [
    "from scipy.spatial import distance_matrix"
   ]
  },
  {
   "cell_type": "code",
   "execution_count": 3,
   "metadata": {},
   "outputs": [],
   "source": [
    "n1 = 50"
   ]
  },
  {
   "cell_type": "code",
   "execution_count": 4,
   "metadata": {},
   "outputs": [],
   "source": [
    "V = 50000"
   ]
  },
  {
   "cell_type": "code",
   "execution_count": 5,
   "metadata": {},
   "outputs": [],
   "source": [
    "d0 = 5"
   ]
  },
  {
   "cell_type": "code",
   "execution_count": 6,
   "metadata": {},
   "outputs": [],
   "source": [
    "dtype = torch.float"
   ]
  },
  {
   "cell_type": "code",
   "execution_count": 7,
   "metadata": {},
   "outputs": [],
   "source": [
    "n = n1*3"
   ]
  },
  {
   "cell_type": "code",
   "execution_count": 8,
   "metadata": {},
   "outputs": [],
   "source": [
    "import pickle as pkl"
   ]
  },
  {
   "cell_type": "code",
   "execution_count": 9,
   "metadata": {},
   "outputs": [],
   "source": [
    "Y = pkl.load(open( \"multiview_sim_y.pkl\", \"rb\" ))"
   ]
  },
  {
   "cell_type": "code",
   "execution_count": 10,
   "metadata": {},
   "outputs": [],
   "source": [
    "s_mat = pkl.load( open( \"multiview_sim_s_mat.pkl\", \"rb\" )) "
   ]
  },
  {
   "cell_type": "code",
   "execution_count": 11,
   "metadata": {},
   "outputs": [],
   "source": [
    "x0 = pkl.load( open( \"multiview_sim_x0.pkl\", \"rb\" )) "
   ]
  },
  {
   "cell_type": "code",
   "execution_count": 12,
   "metadata": {},
   "outputs": [],
   "source": [
    "km_fit = pkl.load( open( \"multiview_sim_init_x_v.pkl\", \"rb\" ) )\n"
   ]
  },
  {
   "cell_type": "code",
   "execution_count": 13,
   "metadata": {},
   "outputs": [],
   "source": [
    "W0Oracle_list = pkl.load( open( \"multiview_sim_w0_list.pkl\", \"rb\" ) )\n"
   ]
  },
  {
   "cell_type": "code",
   "execution_count": 14,
   "metadata": {},
   "outputs": [],
   "source": [
    "g = 10"
   ]
  },
  {
   "cell_type": "code",
   "execution_count": 15,
   "metadata": {},
   "outputs": [],
   "source": [
    "d = 10"
   ]
  },
  {
   "cell_type": "code",
   "execution_count": 16,
   "metadata": {},
   "outputs": [],
   "source": [
    "# initialize eta with K-means\n",
    "\n",
    "ltri_idx = np.tril_indices(n,k=-1)\n",
    "eta_ini = np.eye(d)[km_fit]\n",
    "\n",
    "# smoothing\n",
    "eta_ini = (eta_ini + 1/V) / (1+ d/V)\n",
    "\n",
    "# eta_ini_dev = torch.tensor(eta_ini,device=device,dtype=dtype)"
   ]
  },
  {
   "cell_type": "code",
   "execution_count": 17,
   "metadata": {},
   "outputs": [
    {
     "data": {
      "text/plain": [
       "(50000, 11175)"
      ]
     },
     "execution_count": 17,
     "metadata": {},
     "output_type": "execute_result"
    }
   ],
   "source": [
    "s_mat.shape"
   ]
  },
  {
   "cell_type": "code",
   "execution_count": 18,
   "metadata": {},
   "outputs": [],
   "source": [
    "device = torch.device(device= 'cuda:1')\n",
    "dtype = torch.float"
   ]
  },
  {
   "cell_type": "code",
   "execution_count": 19,
   "metadata": {},
   "outputs": [],
   "source": [
    "eta = torch.tensor(eta_ini,dtype=dtype,device=device)"
   ]
  },
  {
   "cell_type": "code",
   "execution_count": 20,
   "metadata": {},
   "outputs": [],
   "source": [
    "s_mat_torch = torch.tensor(s_mat,dtype=dtype,device=device)"
   ]
  },
  {
   "cell_type": "code",
   "execution_count": 21,
   "metadata": {},
   "outputs": [],
   "source": [
    "lam = np.ones(d)\n",
    "lam = lam/np.sum(lam)"
   ]
  },
  {
   "cell_type": "code",
   "execution_count": 22,
   "metadata": {},
   "outputs": [
    {
     "data": {
      "text/plain": [
       "array([0.1, 0.1, 0.1, 0.1, 0.1, 0.1, 0.1, 0.1, 0.1, 0.1])"
      ]
     },
     "execution_count": 22,
     "metadata": {},
     "output_type": "execute_result"
    }
   ],
   "source": [
    "lam"
   ]
  },
  {
   "cell_type": "code",
   "execution_count": 23,
   "metadata": {},
   "outputs": [],
   "source": [
    "from sklearn.metrics import normalized_mutual_info_score"
   ]
  },
  {
   "cell_type": "code",
   "execution_count": 24,
   "metadata": {},
   "outputs": [
    {
     "name": "stderr",
     "output_type": "stream",
     "text": [
      "/home/shared/anaconda3/envs/leo/lib/python3.7/site-packages/sklearn/metrics/cluster/supervised.py:859: FutureWarning: The behavior of NMI will change in version 0.22. To match the behavior of 'v_measure_score', NMI will use average_method='arithmetic' by default.\n",
      "  FutureWarning)\n"
     ]
    },
    {
     "data": {
      "text/plain": [
       "0.8372006020410202"
      ]
     },
     "execution_count": 24,
     "metadata": {},
     "output_type": "execute_result"
    }
   ],
   "source": [
    "normalized_mutual_info_score(km_fit, x0)"
   ]
  },
  {
   "cell_type": "code",
   "execution_count": 25,
   "metadata": {},
   "outputs": [],
   "source": [
    "eta_S = eta.T@ s_mat_torch\n",
    "eta_1MinusS = eta.T@ (1-s_mat_torch)"
   ]
  },
  {
   "cell_type": "code",
   "execution_count": 26,
   "metadata": {},
   "outputs": [],
   "source": [
    "W0_list = list()\n",
    "\n",
    "for l in range(d):\n",
    "    W0 = torch.rand(n,g, requires_grad=True, device = device, dtype=dtype)\n",
    "    W0_list.append(W0)"
   ]
  },
  {
   "cell_type": "code",
   "execution_count": null,
   "metadata": {},
   "outputs": [],
   "source": []
  },
  {
   "cell_type": "code",
   "execution_count": 27,
   "metadata": {},
   "outputs": [],
   "source": [
    "def CrossEntropyTorch(S_ltr, S1m_ltr,P_ltr):\n",
    "    CEntropy = - S_ltr * torch.log(P_ltr) - S1m_ltr * torch.log(1-P_ltr)\n",
    "    loss = torch.sum(CEntropy)\n",
    "    return loss"
   ]
  },
  {
   "cell_type": "code",
   "execution_count": 28,
   "metadata": {},
   "outputs": [],
   "source": [
    "ltri_idx_torch = torch.tril(torch.ones(n, n),diagonal=-1) == 1"
   ]
  },
  {
   "cell_type": "code",
   "execution_count": null,
   "metadata": {},
   "outputs": [],
   "source": []
  },
  {
   "cell_type": "code",
   "execution_count": 29,
   "metadata": {},
   "outputs": [],
   "source": [
    "alpha0 = 0.1"
   ]
  },
  {
   "cell_type": "code",
   "execution_count": 30,
   "metadata": {},
   "outputs": [],
   "source": [
    "tau = 1"
   ]
  },
  {
   "cell_type": "code",
   "execution_count": null,
   "metadata": {},
   "outputs": [],
   "source": []
  },
  {
   "cell_type": "code",
   "execution_count": 31,
   "metadata": {},
   "outputs": [],
   "source": [
    "from copy import deepcopy "
   ]
  },
  {
   "cell_type": "code",
   "execution_count": 32,
   "metadata": {},
   "outputs": [],
   "source": [
    "learning_rate = 1\n",
    "optimizer = torch.optim.Adam(W0_list, lr=learning_rate)"
   ]
  },
  {
   "cell_type": "code",
   "execution_count": 33,
   "metadata": {},
   "outputs": [
    {
     "name": "stdout",
     "output_type": "stream",
     "text": [
      "0 2696215.25 [0.1 0.1 0.1 0.1 0.1 0.1 0.1 0.1 0.1 0.1]\n"
     ]
    }
   ],
   "source": [
    "for t in range(100):\n",
    "    \n",
    "    W_list = list()\n",
    "    P_list = list()\n",
    "\n",
    "    for l in range(d):\n",
    "        W = torch.softmax(W0_list[l],1)\n",
    "        P = W@W.T\n",
    "\n",
    "        W_list.append(W)\n",
    "        P_list.append(P)\n",
    "\n",
    "    loss = 0\n",
    "    for l in range(d):\n",
    "        W = W_list[l]\n",
    "        loss += CrossEntropyTorch(eta_S[l], eta_1MinusS[l], P_list[l][ltri_idx_torch])\n",
    "    \n",
    "    l21_penalty = 0    \n",
    "    \n",
    "    for l in range(d):\n",
    "        l21_penalty += tau * torch.sum(torch.sqrt(torch.sum( torch.threshold(torch.log(W_list[l])+4.0,0.0,0.0)**2,0)))    \n",
    "    \n",
    "    total_loss =    loss/n + l21_penalty\n",
    "    \n",
    "    \n",
    "    if t % 100 ==0:\n",
    "        print(t, total_loss.item(), lam)\n",
    "\n",
    "    # Before the backward pass, use the optimizer object to zero all of the\n",
    "    # gradients for the Tensors it will update (which are the learnable weights\n",
    "    # of the model)\n",
    "    optimizer.zero_grad()\n",
    "\n",
    "    # Backward pass: compute gradient of the loss with respect to model parameters\n",
    "    total_loss.backward()\n",
    "\n",
    "    # Calling the step function on an Optimizer makes an update to its parameters\n",
    "    optimizer.step()"
   ]
  },
  {
   "cell_type": "code",
   "execution_count": 34,
   "metadata": {},
   "outputs": [],
   "source": [
    "learning_rate = 1\n",
    "optimizer = torch.optim.Adam(W0_list, lr=learning_rate)"
   ]
  },
  {
   "cell_type": "code",
   "execution_count": 35,
   "metadata": {},
   "outputs": [],
   "source": [
    "alpha0 = 0.1"
   ]
  },
  {
   "cell_type": "code",
   "execution_count": 36,
   "metadata": {},
   "outputs": [],
   "source": [
    "for t in range(50):\n",
    "\n",
    "    ######################\n",
    "    ## E Step:\n",
    "\n",
    "    # Compute Eta\n",
    "    \n",
    "    if t % 5 ==0:\n",
    "\n",
    "        loss_mat = torch.zeros([V,d],device=device)\n",
    "\n",
    "        P_vec_list=list()\n",
    "        for l in range(d):\n",
    "            P_vec = (P_list[l][ltri_idx_torch]).detach()\n",
    "            loss_mat[:, l] = torch.sum( - s_mat_torch * torch.log(P_vec) - (1- s_mat_torch) * torch.log(1- P_vec), 1 )\n",
    "\n",
    "        eta = torch.softmax(  - loss_mat + torch.tensor(np.log(lam), device=device, dtype=dtype),1)\n",
    "\n",
    "        eta_S = eta.T@ s_mat_torch\n",
    "        eta_1MinusS = eta.T@ (1-s_mat_torch)\n",
    "\n",
    "\n",
    "    \n",
    "    ######################\n",
    "    # M step:\n",
    "    \n",
    "    # Compute Lam:\n",
    "\n",
    "    eta_cpu = eta.cpu().numpy()\n",
    "    \n",
    "    lam = (eta_cpu.sum(0)+alpha0-1)/(eta_cpu.sum() + alpha0*d - d)\n",
    "    lam[lam<0] = 1E-5\n",
    "    lam /= np.sum(lam)\n",
    "    \n",
    "    # Compute W:\n",
    "    \n",
    "    W_list = list()\n",
    "    P_list = list()\n",
    "\n",
    "    for l in range(d):\n",
    "        W = torch.softmax(W0_list[l],1)\n",
    "        P = W@W.T\n",
    "\n",
    "        W_list.append(W)\n",
    "        P_list.append(P)\n",
    "\n",
    "    loss = 0\n",
    "    for l in range(d):\n",
    "        W = W_list[l]\n",
    "        loss += CrossEntropyTorch(eta_S[l], eta_1MinusS[l], P_list[l][ltri_idx_torch])\n",
    "    \n",
    "    l21_penalty = 0    \n",
    "    \n",
    "    for l in range(d):\n",
    "        l21_penalty += tau * torch.sum(torch.sqrt(torch.sum( torch.threshold(torch.log(W_list[l])+3.0,0.0,0.0)**2,0)))    \n",
    "    \n",
    "    total_loss =    loss/n + l21_penalty\n",
    "    \n",
    "    if (t+1) % 100 ==0:\n",
    "        print(t, total_loss.item() )\n",
    "        print(lam)\n",
    "\n",
    "    # Before the backward pass, use the optimizer object to zero all of the\n",
    "    # gradients for the Tensors it will update (which are the learnable weights\n",
    "    # of the model)\n",
    "    optimizer.zero_grad()\n",
    "\n",
    "    # Backward pass: compute gradient of the loss with respect to model parameters\n",
    "    total_loss.backward()\n",
    "    \n",
    "    # Calling the step function on an Optimizer makes an update to its parameters\n",
    "    optimizer.step()"
   ]
  },
  {
   "cell_type": "code",
   "execution_count": 37,
   "metadata": {},
   "outputs": [
    {
     "data": {
      "text/plain": [
       "array([    0.    ,  9877.    ,     0.    , 10114.    ,  9949.    ,\n",
       "           0.    ,  8341.967 ,  1684.0377, 10034.    ,     0.    ],\n",
       "      dtype=float32)"
      ]
     },
     "execution_count": 37,
     "metadata": {},
     "output_type": "execute_result"
    }
   ],
   "source": [
    "eta_cpu.sum(0)"
   ]
  },
  {
   "cell_type": "code",
   "execution_count": 38,
   "metadata": {},
   "outputs": [
    {
     "data": {
      "text/plain": [
       "array([ 9877, 10114, 10034, 10026,  9949])"
      ]
     },
     "execution_count": 38,
     "metadata": {},
     "output_type": "execute_result"
    }
   ],
   "source": [
    "np.bincount(x0)"
   ]
  },
  {
   "cell_type": "code",
   "execution_count": 39,
   "metadata": {},
   "outputs": [
    {
     "data": {
      "text/plain": [
       "torch.Size([50000, 11175])"
      ]
     },
     "execution_count": 39,
     "metadata": {},
     "output_type": "execute_result"
    }
   ],
   "source": [
    "s_mat_torch.shape"
   ]
  },
  {
   "cell_type": "code",
   "execution_count": 40,
   "metadata": {},
   "outputs": [
    {
     "data": {
      "text/plain": [
       "[<matplotlib.lines.Line2D at 0x7f4af83c71d0>]"
      ]
     },
     "execution_count": 40,
     "metadata": {},
     "output_type": "execute_result"
    },
    {
     "data": {
      "image/png": "[encoded data removed]",
      "text/plain": [
       "<Figure size 432x288 with 1 Axes>"
      ]
     },
     "metadata": {
      "needs_background": "light"
     },
     "output_type": "display_data"
    }
   ],
   "source": [
    "plt.plot(lam)"
   ]
  }
 ],
 "metadata": {
  "kernelspec": {
   "display_name": "Python 3",
   "language": "python",
   "name": "python3"
  },
  "language_info": {
   "codemirror_mode": {
    "name": "ipython",
    "version": 3
   },
   "file_extension": ".py",
   "mimetype": "text/x-python",
   "name": "python",
   "nbconvert_exporter": "python",
   "pygments_lexer": "ipython3",
   "version": "3.7.4"
  }
 },
 "nbformat": 4,
 "nbformat_minor": 2
}
